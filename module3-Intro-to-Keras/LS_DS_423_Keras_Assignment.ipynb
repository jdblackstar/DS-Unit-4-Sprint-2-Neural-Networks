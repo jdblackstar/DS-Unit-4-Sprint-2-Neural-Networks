{
  "nbformat": 4,
  "nbformat_minor": 0,
  "metadata": {
    "colab": {
      "name": "LS_DS_433_Keras_Assignment.ipynb",
      "provenance": []
    },
    "kernelspec": {
      "display_name": "Python 3",
      "language": "python",
      "name": "python3"
    },
    "language_info": {
      "codemirror_mode": {
        "name": "ipython",
        "version": 3
      },
      "file_extension": ".py",
      "mimetype": "text/x-python",
      "name": "python",
      "nbconvert_exporter": "python",
      "pygments_lexer": "ipython3",
      "version": "3.7.3"
    }
  },
  "cells": [
    {
      "cell_type": "markdown",
      "metadata": {
        "colab_type": "text",
        "id": "pBQsZEJmubLs"
      },
      "source": [
        "<img align=\"left\" src=\"https://lever-client-logos.s3.amazonaws.com/864372b1-534c-480e-acd5-9711f850815c-1524247202159.png\" width=200>\n",
        "<br></br>\n",
        "\n",
        "# Neural Network Framework (Keras)\n",
        "\n",
        "## *Data Science Unit 4 Sprint 2 Assignment 3*\n",
        "\n",
        "## Use the Keras Library to build a Multi-Layer Perceptron Model on the Boston Housing dataset\n",
        "\n",
        "- The Boston Housing dataset comes with the Keras library so use Keras to import it into your notebook. \n",
        "- Normalize the data (all features should have roughly the same scale)\n",
        "- Import the type of model and layers that you will need from Keras.\n",
        "- Instantiate a model object and use `model.add()` to add layers to your model\n",
        "- Since this is a regression model you will have a single output node in the final layer.\n",
        "- Use activation functions that are appropriate for this task\n",
        "- Compile your model\n",
        "- Fit your model and report its accuracy in terms of Mean Squared Error\n",
        "- Use the history object that is returned from model.fit to make graphs of the model's loss or train/validation accuracies by epoch. \n",
        "- Run this same data through a linear regression model. Which achieves higher accuracy?\n",
        "- Do a little bit of feature engineering and see how that affects your neural network model. (you will need to change your model to accept more inputs)\n",
        "- After feature engineering, which model sees a greater accuracy boost due to the new features?"
      ]
    },
    {
      "cell_type": "code",
      "metadata": {
        "colab_type": "code",
        "id": "8NLTAR87uYJ-",
        "colab": {
          "base_uri": "https://localhost:8080/",
          "height": 51
        },
        "outputId": "6b081a9c-17ef-4318-d559-6ece9379b7da"
      },
      "source": [
        "##### Your Code Here #####\n",
        "\n",
        "from tensorflow.keras.datasets import boston_housing\n",
        "\n",
        "(X_train, y_train), (X_test, y_test) = boston_housing.load_data()"
      ],
      "execution_count": 2,
      "outputs": [
        {
          "output_type": "stream",
          "text": [
            "Downloading data from https://storage.googleapis.com/tensorflow/tf-keras-datasets/boston_housing.npz\n",
            "57344/57026 [==============================] - 0s 0us/step\n"
          ],
          "name": "stdout"
        }
      ]
    },
    {
      "cell_type": "code",
      "metadata": {
        "id": "5s8jiecMt8nS",
        "colab_type": "code",
        "colab": {
          "base_uri": "https://localhost:8080/",
          "height": 34
        },
        "outputId": "ef527acf-395e-4c4a-e390-a0c48a1660a3"
      },
      "source": [
        "type(boston_housing)"
      ],
      "execution_count": 3,
      "outputs": [
        {
          "output_type": "execute_result",
          "data": {
            "text/plain": [
              "module"
            ]
          },
          "metadata": {
            "tags": []
          },
          "execution_count": 3
        }
      ]
    },
    {
      "cell_type": "code",
      "metadata": {
        "id": "jAW0qRjJt_AU",
        "colab_type": "code",
        "colab": {}
      },
      "source": [
        "from sklearn.preprocessing import MinMaxScaler\n",
        "\n",
        "scaler = MinMaxScaler()\n",
        "scaler.fit(X_train)\n",
        "\n",
        "X_train_scaled = scaler.transform(X_train)\n",
        "X_test_scaled = scaler.transform(X_test)"
      ],
      "execution_count": 4,
      "outputs": []
    },
    {
      "cell_type": "code",
      "metadata": {
        "id": "AjAOlI2EuMWT",
        "colab_type": "code",
        "colab": {
          "base_uri": "https://localhost:8080/",
          "height": 34
        },
        "outputId": "ccf7678d-b9d7-4efc-84ee-37d7af90ce79"
      },
      "source": [
        "X_train_scaled.shape"
      ],
      "execution_count": 5,
      "outputs": [
        {
          "output_type": "execute_result",
          "data": {
            "text/plain": [
              "(404, 13)"
            ]
          },
          "metadata": {
            "tags": []
          },
          "execution_count": 5
        }
      ]
    },
    {
      "cell_type": "code",
      "metadata": {
        "id": "kVKWTyMiuPdQ",
        "colab_type": "code",
        "colab": {}
      },
      "source": [
        "from tensorflow.keras import Sequential\n",
        "from tensorflow.keras.layers import Flatten, Dense\n",
        "\n",
        "model = Sequential()\n",
        "\n",
        "n_features = 13\n",
        "\n",
        "model.add(Dense(13, input_dim=n_features))\n",
        "model.add(Dense(20, activation=\"relu\"))\n",
        "model.add(Dense(1, activation=\"linear\"))\n",
        "\n",
        "model.compile(loss=\"mean_absolute_error\", optimizer=\"adam\", metrics=[\"mae\"])"
      ],
      "execution_count": 7,
      "outputs": []
    },
    {
      "cell_type": "code",
      "metadata": {
        "id": "s7Q2P8Z6upS7",
        "colab_type": "code",
        "colab": {
          "base_uri": "https://localhost:8080/",
          "height": 1000
        },
        "outputId": "cbbfba24-a5d2-42a5-ac22-ad4a55402af5"
      },
      "source": [
        "from tensorflow.keras.callbacks import EarlyStopping\n",
        "\n",
        "nn_callback = EarlyStopping(monitor=\"mae\", patience=5)\n",
        "\n",
        "model.fit(X_train_scaled, y_train, epochs=9999, validation_data=(X_test_scaled, y_test), callbacks=[nn_callback])"
      ],
      "execution_count": 8,
      "outputs": [
        {
          "output_type": "stream",
          "text": [
            "Epoch 1/9999\n",
            "13/13 [==============================] - 0s 15ms/step - loss: 22.0734 - mae: 22.0734 - val_loss: 22.4008 - val_mae: 22.4008\n",
            "Epoch 2/9999\n",
            "13/13 [==============================] - 0s 4ms/step - loss: 21.4823 - mae: 21.4823 - val_loss: 21.8139 - val_mae: 21.8139\n",
            "Epoch 3/9999\n",
            "13/13 [==============================] - 0s 4ms/step - loss: 20.8724 - mae: 20.8724 - val_loss: 21.1369 - val_mae: 21.1369\n",
            "Epoch 4/9999\n",
            "13/13 [==============================] - 0s 4ms/step - loss: 20.1376 - mae: 20.1376 - val_loss: 20.2793 - val_mae: 20.2793\n",
            "Epoch 5/9999\n",
            "13/13 [==============================] - 0s 4ms/step - loss: 19.1936 - mae: 19.1936 - val_loss: 19.1852 - val_mae: 19.1852\n",
            "Epoch 6/9999\n",
            "13/13 [==============================] - 0s 4ms/step - loss: 17.9995 - mae: 17.9995 - val_loss: 17.8254 - val_mae: 17.8254\n",
            "Epoch 7/9999\n",
            "13/13 [==============================] - 0s 4ms/step - loss: 16.5241 - mae: 16.5241 - val_loss: 16.2332 - val_mae: 16.2332\n",
            "Epoch 8/9999\n",
            "13/13 [==============================] - 0s 4ms/step - loss: 14.7520 - mae: 14.7520 - val_loss: 14.5036 - val_mae: 14.5036\n",
            "Epoch 9/9999\n",
            "13/13 [==============================] - 0s 4ms/step - loss: 12.8746 - mae: 12.8746 - val_loss: 12.7753 - val_mae: 12.7753\n",
            "Epoch 10/9999\n",
            "13/13 [==============================] - 0s 4ms/step - loss: 11.1336 - mae: 11.1336 - val_loss: 11.1524 - val_mae: 11.1524\n",
            "Epoch 11/9999\n",
            "13/13 [==============================] - 0s 5ms/step - loss: 9.7436 - mae: 9.7436 - val_loss: 9.7769 - val_mae: 9.7769\n",
            "Epoch 12/9999\n",
            "13/13 [==============================] - 0s 5ms/step - loss: 8.8010 - mae: 8.8010 - val_loss: 8.9798 - val_mae: 8.9798\n",
            "Epoch 13/9999\n",
            "13/13 [==============================] - 0s 4ms/step - loss: 8.2024 - mae: 8.2024 - val_loss: 8.5181 - val_mae: 8.5181\n",
            "Epoch 14/9999\n",
            "13/13 [==============================] - 0s 4ms/step - loss: 7.8316 - mae: 7.8316 - val_loss: 8.1968 - val_mae: 8.1968\n",
            "Epoch 15/9999\n",
            "13/13 [==============================] - 0s 4ms/step - loss: 7.5566 - mae: 7.5566 - val_loss: 7.9279 - val_mae: 7.9279\n",
            "Epoch 16/9999\n",
            "13/13 [==============================] - 0s 4ms/step - loss: 7.3053 - mae: 7.3053 - val_loss: 7.6840 - val_mae: 7.6840\n",
            "Epoch 17/9999\n",
            "13/13 [==============================] - 0s 4ms/step - loss: 7.0620 - mae: 7.0620 - val_loss: 7.4614 - val_mae: 7.4614\n",
            "Epoch 18/9999\n",
            "13/13 [==============================] - 0s 4ms/step - loss: 6.8280 - mae: 6.8280 - val_loss: 7.2446 - val_mae: 7.2446\n",
            "Epoch 19/9999\n",
            "13/13 [==============================] - 0s 4ms/step - loss: 6.5839 - mae: 6.5839 - val_loss: 7.0079 - val_mae: 7.0079\n",
            "Epoch 20/9999\n",
            "13/13 [==============================] - 0s 4ms/step - loss: 6.3649 - mae: 6.3649 - val_loss: 6.7941 - val_mae: 6.7941\n",
            "Epoch 21/9999\n",
            "13/13 [==============================] - 0s 5ms/step - loss: 6.1563 - mae: 6.1563 - val_loss: 6.6319 - val_mae: 6.6319\n",
            "Epoch 22/9999\n",
            "13/13 [==============================] - 0s 4ms/step - loss: 5.9450 - mae: 5.9450 - val_loss: 6.4267 - val_mae: 6.4267\n",
            "Epoch 23/9999\n",
            "13/13 [==============================] - 0s 4ms/step - loss: 5.7522 - mae: 5.7522 - val_loss: 6.2443 - val_mae: 6.2443\n",
            "Epoch 24/9999\n",
            "13/13 [==============================] - 0s 4ms/step - loss: 5.5775 - mae: 5.5775 - val_loss: 6.0797 - val_mae: 6.0797\n",
            "Epoch 25/9999\n",
            "13/13 [==============================] - 0s 4ms/step - loss: 5.4128 - mae: 5.4128 - val_loss: 5.9283 - val_mae: 5.9283\n",
            "Epoch 26/9999\n",
            "13/13 [==============================] - 0s 4ms/step - loss: 5.2813 - mae: 5.2813 - val_loss: 5.7610 - val_mae: 5.7610\n",
            "Epoch 27/9999\n",
            "13/13 [==============================] - 0s 4ms/step - loss: 5.1608 - mae: 5.1608 - val_loss: 5.6426 - val_mae: 5.6426\n",
            "Epoch 28/9999\n",
            "13/13 [==============================] - 0s 5ms/step - loss: 5.0655 - mae: 5.0655 - val_loss: 5.5458 - val_mae: 5.5458\n",
            "Epoch 29/9999\n",
            "13/13 [==============================] - 0s 5ms/step - loss: 4.9781 - mae: 4.9781 - val_loss: 5.4711 - val_mae: 5.4711\n",
            "Epoch 30/9999\n",
            "13/13 [==============================] - 0s 4ms/step - loss: 4.9278 - mae: 4.9278 - val_loss: 5.4004 - val_mae: 5.4004\n",
            "Epoch 31/9999\n",
            "13/13 [==============================] - 0s 5ms/step - loss: 4.8736 - mae: 4.8736 - val_loss: 5.3418 - val_mae: 5.3418\n",
            "Epoch 32/9999\n",
            "13/13 [==============================] - 0s 4ms/step - loss: 4.8449 - mae: 4.8449 - val_loss: 5.2803 - val_mae: 5.2803\n",
            "Epoch 33/9999\n",
            "13/13 [==============================] - 0s 4ms/step - loss: 4.7999 - mae: 4.7999 - val_loss: 5.2377 - val_mae: 5.2377\n",
            "Epoch 34/9999\n",
            "13/13 [==============================] - 0s 4ms/step - loss: 4.7781 - mae: 4.7781 - val_loss: 5.1980 - val_mae: 5.1980\n",
            "Epoch 35/9999\n",
            "13/13 [==============================] - 0s 5ms/step - loss: 4.7530 - mae: 4.7530 - val_loss: 5.1486 - val_mae: 5.1486\n",
            "Epoch 36/9999\n",
            "13/13 [==============================] - 0s 5ms/step - loss: 4.7318 - mae: 4.7318 - val_loss: 5.1231 - val_mae: 5.1231\n",
            "Epoch 37/9999\n",
            "13/13 [==============================] - 0s 5ms/step - loss: 4.6936 - mae: 4.6936 - val_loss: 5.0733 - val_mae: 5.0733\n",
            "Epoch 38/9999\n",
            "13/13 [==============================] - 0s 5ms/step - loss: 4.6922 - mae: 4.6922 - val_loss: 5.0384 - val_mae: 5.0384\n",
            "Epoch 39/9999\n",
            "13/13 [==============================] - 0s 6ms/step - loss: 4.6509 - mae: 4.6509 - val_loss: 5.0035 - val_mae: 5.0035\n",
            "Epoch 40/9999\n",
            "13/13 [==============================] - 0s 5ms/step - loss: 4.6165 - mae: 4.6165 - val_loss: 4.9913 - val_mae: 4.9913\n",
            "Epoch 41/9999\n",
            "13/13 [==============================] - 0s 4ms/step - loss: 4.5933 - mae: 4.5933 - val_loss: 4.9588 - val_mae: 4.9588\n",
            "Epoch 42/9999\n",
            "13/13 [==============================] - 0s 4ms/step - loss: 4.5782 - mae: 4.5782 - val_loss: 4.9192 - val_mae: 4.9192\n",
            "Epoch 43/9999\n",
            "13/13 [==============================] - 0s 5ms/step - loss: 4.5410 - mae: 4.5410 - val_loss: 4.9122 - val_mae: 4.9122\n",
            "Epoch 44/9999\n",
            "13/13 [==============================] - 0s 4ms/step - loss: 4.5250 - mae: 4.5250 - val_loss: 4.8713 - val_mae: 4.8713\n",
            "Epoch 45/9999\n",
            "13/13 [==============================] - 0s 5ms/step - loss: 4.4928 - mae: 4.4928 - val_loss: 4.8355 - val_mae: 4.8355\n",
            "Epoch 46/9999\n",
            "13/13 [==============================] - 0s 4ms/step - loss: 4.4762 - mae: 4.4762 - val_loss: 4.8019 - val_mae: 4.8019\n",
            "Epoch 47/9999\n",
            "13/13 [==============================] - 0s 4ms/step - loss: 4.4440 - mae: 4.4440 - val_loss: 4.7815 - val_mae: 4.7815\n",
            "Epoch 48/9999\n",
            "13/13 [==============================] - 0s 5ms/step - loss: 4.4240 - mae: 4.4240 - val_loss: 4.7514 - val_mae: 4.7514\n",
            "Epoch 49/9999\n",
            "13/13 [==============================] - 0s 5ms/step - loss: 4.4138 - mae: 4.4138 - val_loss: 4.7515 - val_mae: 4.7515\n",
            "Epoch 50/9999\n",
            "13/13 [==============================] - 0s 4ms/step - loss: 4.3736 - mae: 4.3736 - val_loss: 4.6739 - val_mae: 4.6739\n",
            "Epoch 51/9999\n",
            "13/13 [==============================] - 0s 4ms/step - loss: 4.3491 - mae: 4.3491 - val_loss: 4.6719 - val_mae: 4.6719\n",
            "Epoch 52/9999\n",
            "13/13 [==============================] - 0s 4ms/step - loss: 4.3243 - mae: 4.3243 - val_loss: 4.6404 - val_mae: 4.6404\n",
            "Epoch 53/9999\n",
            "13/13 [==============================] - 0s 4ms/step - loss: 4.3002 - mae: 4.3002 - val_loss: 4.5827 - val_mae: 4.5827\n",
            "Epoch 54/9999\n",
            "13/13 [==============================] - 0s 4ms/step - loss: 4.2711 - mae: 4.2711 - val_loss: 4.5670 - val_mae: 4.5670\n",
            "Epoch 55/9999\n",
            "13/13 [==============================] - 0s 5ms/step - loss: 4.2530 - mae: 4.2530 - val_loss: 4.5275 - val_mae: 4.5275\n",
            "Epoch 56/9999\n",
            "13/13 [==============================] - 0s 4ms/step - loss: 4.2241 - mae: 4.2241 - val_loss: 4.5115 - val_mae: 4.5115\n",
            "Epoch 57/9999\n",
            "13/13 [==============================] - 0s 5ms/step - loss: 4.2036 - mae: 4.2036 - val_loss: 4.4741 - val_mae: 4.4741\n",
            "Epoch 58/9999\n",
            "13/13 [==============================] - 0s 4ms/step - loss: 4.1774 - mae: 4.1774 - val_loss: 4.4602 - val_mae: 4.4602\n",
            "Epoch 59/9999\n",
            "13/13 [==============================] - 0s 5ms/step - loss: 4.1616 - mae: 4.1616 - val_loss: 4.4125 - val_mae: 4.4125\n",
            "Epoch 60/9999\n",
            "13/13 [==============================] - 0s 5ms/step - loss: 4.1310 - mae: 4.1310 - val_loss: 4.3887 - val_mae: 4.3887\n",
            "Epoch 61/9999\n",
            "13/13 [==============================] - 0s 4ms/step - loss: 4.1092 - mae: 4.1092 - val_loss: 4.3563 - val_mae: 4.3563\n",
            "Epoch 62/9999\n",
            "13/13 [==============================] - 0s 4ms/step - loss: 4.0940 - mae: 4.0940 - val_loss: 4.3164 - val_mae: 4.3164\n",
            "Epoch 63/9999\n",
            "13/13 [==============================] - 0s 4ms/step - loss: 4.0847 - mae: 4.0847 - val_loss: 4.2923 - val_mae: 4.2923\n",
            "Epoch 64/9999\n",
            "13/13 [==============================] - 0s 4ms/step - loss: 4.0456 - mae: 4.0456 - val_loss: 4.2539 - val_mae: 4.2539\n",
            "Epoch 65/9999\n",
            "13/13 [==============================] - 0s 5ms/step - loss: 4.0301 - mae: 4.0301 - val_loss: 4.2225 - val_mae: 4.2225\n",
            "Epoch 66/9999\n",
            "13/13 [==============================] - 0s 5ms/step - loss: 4.0041 - mae: 4.0041 - val_loss: 4.2085 - val_mae: 4.2085\n",
            "Epoch 67/9999\n",
            "13/13 [==============================] - 0s 5ms/step - loss: 3.9785 - mae: 3.9785 - val_loss: 4.1471 - val_mae: 4.1471\n",
            "Epoch 68/9999\n",
            "13/13 [==============================] - 0s 4ms/step - loss: 3.9554 - mae: 3.9554 - val_loss: 4.1282 - val_mae: 4.1282\n",
            "Epoch 69/9999\n",
            "13/13 [==============================] - 0s 5ms/step - loss: 3.9365 - mae: 3.9365 - val_loss: 4.0927 - val_mae: 4.0927\n",
            "Epoch 70/9999\n",
            "13/13 [==============================] - 0s 4ms/step - loss: 3.9253 - mae: 3.9253 - val_loss: 4.0309 - val_mae: 4.0309\n",
            "Epoch 71/9999\n",
            "13/13 [==============================] - 0s 5ms/step - loss: 3.8978 - mae: 3.8978 - val_loss: 4.0548 - val_mae: 4.0548\n",
            "Epoch 72/9999\n",
            "13/13 [==============================] - 0s 4ms/step - loss: 3.8831 - mae: 3.8831 - val_loss: 4.0101 - val_mae: 4.0101\n",
            "Epoch 73/9999\n",
            "13/13 [==============================] - 0s 5ms/step - loss: 3.8745 - mae: 3.8745 - val_loss: 3.9474 - val_mae: 3.9474\n",
            "Epoch 74/9999\n",
            "13/13 [==============================] - 0s 5ms/step - loss: 3.8402 - mae: 3.8402 - val_loss: 3.9376 - val_mae: 3.9376\n",
            "Epoch 75/9999\n",
            "13/13 [==============================] - 0s 5ms/step - loss: 3.8283 - mae: 3.8283 - val_loss: 3.9055 - val_mae: 3.9055\n",
            "Epoch 76/9999\n",
            "13/13 [==============================] - 0s 6ms/step - loss: 3.8066 - mae: 3.8066 - val_loss: 3.8930 - val_mae: 3.8930\n",
            "Epoch 77/9999\n",
            "13/13 [==============================] - 0s 4ms/step - loss: 3.7836 - mae: 3.7836 - val_loss: 3.8582 - val_mae: 3.8582\n",
            "Epoch 78/9999\n",
            "13/13 [==============================] - 0s 4ms/step - loss: 3.7660 - mae: 3.7660 - val_loss: 3.8049 - val_mae: 3.8049\n",
            "Epoch 79/9999\n",
            "13/13 [==============================] - 0s 4ms/step - loss: 3.7409 - mae: 3.7409 - val_loss: 3.8057 - val_mae: 3.8057\n",
            "Epoch 80/9999\n",
            "13/13 [==============================] - 0s 4ms/step - loss: 3.7304 - mae: 3.7304 - val_loss: 3.7946 - val_mae: 3.7946\n",
            "Epoch 81/9999\n",
            "13/13 [==============================] - 0s 4ms/step - loss: 3.7128 - mae: 3.7128 - val_loss: 3.7247 - val_mae: 3.7247\n",
            "Epoch 82/9999\n",
            "13/13 [==============================] - 0s 4ms/step - loss: 3.6946 - mae: 3.6946 - val_loss: 3.7144 - val_mae: 3.7144\n",
            "Epoch 83/9999\n",
            "13/13 [==============================] - 0s 4ms/step - loss: 3.6637 - mae: 3.6637 - val_loss: 3.6937 - val_mae: 3.6937\n",
            "Epoch 84/9999\n",
            "13/13 [==============================] - 0s 4ms/step - loss: 3.6518 - mae: 3.6518 - val_loss: 3.6634 - val_mae: 3.6634\n",
            "Epoch 85/9999\n",
            "13/13 [==============================] - 0s 5ms/step - loss: 3.6222 - mae: 3.6222 - val_loss: 3.6514 - val_mae: 3.6514\n",
            "Epoch 86/9999\n",
            "13/13 [==============================] - 0s 4ms/step - loss: 3.6164 - mae: 3.6164 - val_loss: 3.6304 - val_mae: 3.6304\n",
            "Epoch 87/9999\n",
            "13/13 [==============================] - 0s 5ms/step - loss: 3.5792 - mae: 3.5792 - val_loss: 3.6119 - val_mae: 3.6119\n",
            "Epoch 88/9999\n",
            "13/13 [==============================] - 0s 5ms/step - loss: 3.5683 - mae: 3.5683 - val_loss: 3.5890 - val_mae: 3.5890\n",
            "Epoch 89/9999\n",
            "13/13 [==============================] - 0s 4ms/step - loss: 3.5463 - mae: 3.5463 - val_loss: 3.5600 - val_mae: 3.5600\n",
            "Epoch 90/9999\n",
            "13/13 [==============================] - 0s 5ms/step - loss: 3.5393 - mae: 3.5393 - val_loss: 3.5459 - val_mae: 3.5459\n",
            "Epoch 91/9999\n",
            "13/13 [==============================] - 0s 4ms/step - loss: 3.5221 - mae: 3.5221 - val_loss: 3.5322 - val_mae: 3.5322\n",
            "Epoch 92/9999\n",
            "13/13 [==============================] - 0s 5ms/step - loss: 3.5161 - mae: 3.5161 - val_loss: 3.5079 - val_mae: 3.5079\n",
            "Epoch 93/9999\n",
            "13/13 [==============================] - 0s 4ms/step - loss: 3.4842 - mae: 3.4842 - val_loss: 3.5159 - val_mae: 3.5159\n",
            "Epoch 94/9999\n",
            "13/13 [==============================] - 0s 4ms/step - loss: 3.4547 - mae: 3.4547 - val_loss: 3.4761 - val_mae: 3.4761\n",
            "Epoch 95/9999\n",
            "13/13 [==============================] - 0s 5ms/step - loss: 3.4366 - mae: 3.4366 - val_loss: 3.4665 - val_mae: 3.4665\n",
            "Epoch 96/9999\n",
            "13/13 [==============================] - 0s 4ms/step - loss: 3.4175 - mae: 3.4175 - val_loss: 3.4969 - val_mae: 3.4969\n",
            "Epoch 97/9999\n",
            "13/13 [==============================] - 0s 4ms/step - loss: 3.4078 - mae: 3.4078 - val_loss: 3.4368 - val_mae: 3.4368\n",
            "Epoch 98/9999\n",
            "13/13 [==============================] - 0s 4ms/step - loss: 3.3981 - mae: 3.3981 - val_loss: 3.4393 - val_mae: 3.4393\n",
            "Epoch 99/9999\n",
            "13/13 [==============================] - 0s 4ms/step - loss: 3.3822 - mae: 3.3822 - val_loss: 3.4228 - val_mae: 3.4228\n",
            "Epoch 100/9999\n",
            "13/13 [==============================] - 0s 4ms/step - loss: 3.3743 - mae: 3.3743 - val_loss: 3.4049 - val_mae: 3.4049\n",
            "Epoch 101/9999\n",
            "13/13 [==============================] - 0s 5ms/step - loss: 3.3906 - mae: 3.3906 - val_loss: 3.3951 - val_mae: 3.3951\n",
            "Epoch 102/9999\n",
            "13/13 [==============================] - 0s 5ms/step - loss: 3.3549 - mae: 3.3549 - val_loss: 3.3935 - val_mae: 3.3935\n",
            "Epoch 103/9999\n",
            "13/13 [==============================] - 0s 4ms/step - loss: 3.3398 - mae: 3.3398 - val_loss: 3.3964 - val_mae: 3.3964\n",
            "Epoch 104/9999\n",
            "13/13 [==============================] - 0s 5ms/step - loss: 3.3292 - mae: 3.3292 - val_loss: 3.3708 - val_mae: 3.3708\n",
            "Epoch 105/9999\n",
            "13/13 [==============================] - 0s 4ms/step - loss: 3.3129 - mae: 3.3129 - val_loss: 3.3577 - val_mae: 3.3577\n",
            "Epoch 106/9999\n",
            "13/13 [==============================] - 0s 5ms/step - loss: 3.3170 - mae: 3.3170 - val_loss: 3.3454 - val_mae: 3.3454\n",
            "Epoch 107/9999\n",
            "13/13 [==============================] - 0s 4ms/step - loss: 3.3205 - mae: 3.3205 - val_loss: 3.3470 - val_mae: 3.3470\n",
            "Epoch 108/9999\n",
            "13/13 [==============================] - 0s 4ms/step - loss: 3.2981 - mae: 3.2981 - val_loss: 3.3307 - val_mae: 3.3307\n",
            "Epoch 109/9999\n",
            "13/13 [==============================] - 0s 4ms/step - loss: 3.2852 - mae: 3.2852 - val_loss: 3.3077 - val_mae: 3.3077\n",
            "Epoch 110/9999\n",
            "13/13 [==============================] - 0s 4ms/step - loss: 3.2789 - mae: 3.2789 - val_loss: 3.3137 - val_mae: 3.3137\n",
            "Epoch 111/9999\n",
            "13/13 [==============================] - 0s 4ms/step - loss: 3.2694 - mae: 3.2694 - val_loss: 3.2967 - val_mae: 3.2967\n",
            "Epoch 112/9999\n",
            "13/13 [==============================] - 0s 4ms/step - loss: 3.2573 - mae: 3.2573 - val_loss: 3.2963 - val_mae: 3.2963\n",
            "Epoch 113/9999\n",
            "13/13 [==============================] - 0s 5ms/step - loss: 3.2616 - mae: 3.2616 - val_loss: 3.2766 - val_mae: 3.2766\n",
            "Epoch 114/9999\n",
            "13/13 [==============================] - 0s 4ms/step - loss: 3.2499 - mae: 3.2499 - val_loss: 3.2685 - val_mae: 3.2685\n",
            "Epoch 115/9999\n",
            "13/13 [==============================] - 0s 4ms/step - loss: 3.2403 - mae: 3.2403 - val_loss: 3.2580 - val_mae: 3.2580\n",
            "Epoch 116/9999\n",
            "13/13 [==============================] - 0s 5ms/step - loss: 3.2356 - mae: 3.2356 - val_loss: 3.2499 - val_mae: 3.2499\n",
            "Epoch 117/9999\n",
            "13/13 [==============================] - 0s 4ms/step - loss: 3.2433 - mae: 3.2433 - val_loss: 3.2361 - val_mae: 3.2361\n",
            "Epoch 118/9999\n",
            "13/13 [==============================] - 0s 4ms/step - loss: 3.2564 - mae: 3.2564 - val_loss: 3.2246 - val_mae: 3.2246\n",
            "Epoch 119/9999\n",
            "13/13 [==============================] - 0s 4ms/step - loss: 3.1973 - mae: 3.1973 - val_loss: 3.2625 - val_mae: 3.2625\n",
            "Epoch 120/9999\n",
            "13/13 [==============================] - 0s 4ms/step - loss: 3.2239 - mae: 3.2239 - val_loss: 3.2001 - val_mae: 3.2001\n",
            "Epoch 121/9999\n",
            "13/13 [==============================] - 0s 4ms/step - loss: 3.2378 - mae: 3.2378 - val_loss: 3.2027 - val_mae: 3.2027\n",
            "Epoch 122/9999\n",
            "13/13 [==============================] - 0s 4ms/step - loss: 3.2076 - mae: 3.2076 - val_loss: 3.1787 - val_mae: 3.1787\n",
            "Epoch 123/9999\n",
            "13/13 [==============================] - 0s 5ms/step - loss: 3.2079 - mae: 3.2079 - val_loss: 3.1803 - val_mae: 3.1803\n",
            "Epoch 124/9999\n",
            "13/13 [==============================] - 0s 4ms/step - loss: 3.1986 - mae: 3.1986 - val_loss: 3.1709 - val_mae: 3.1709\n"
          ],
          "name": "stdout"
        },
        {
          "output_type": "execute_result",
          "data": {
            "text/plain": [
              "<tensorflow.python.keras.callbacks.History at 0x7f47febb6710>"
            ]
          },
          "metadata": {
            "tags": []
          },
          "execution_count": 8
        }
      ]
    },
    {
      "cell_type": "code",
      "metadata": {
        "id": "tyA6aiSRvDSw",
        "colab_type": "code",
        "colab": {}
      },
      "source": [
        "y_pred = model.predict(X_test_scaled)"
      ],
      "execution_count": 9,
      "outputs": []
    },
    {
      "cell_type": "code",
      "metadata": {
        "id": "zg0A7XwuvHwV",
        "colab_type": "code",
        "colab": {
          "base_uri": "https://localhost:8080/",
          "height": 68
        },
        "outputId": "bf1a7a7f-fdad-468a-f77e-90cb5fbba709"
      },
      "source": [
        "from sklearn.metrics import mean_squared_error, mean_absolute_error, r2_score\n",
        "import math\n",
        "\n",
        "print(\"RMSE:\", math.sqrt(mean_squared_error(y_test, y_pred)))\n",
        "print(\"MAE:\", mean_absolute_error(y_test, y_pred))\n",
        "print(\"R2:\", r2_score(y_test, y_pred))"
      ],
      "execution_count": 10,
      "outputs": [
        {
          "output_type": "stream",
          "text": [
            "RMSE: 4.59069353367891\n",
            "MAE: 3.170899804433187\n",
            "R2: 0.7468345409913544\n"
          ],
          "name": "stdout"
        }
      ]
    },
    {
      "cell_type": "markdown",
      "metadata": {
        "colab_type": "text",
        "id": "SfcFnOONyuNm"
      },
      "source": [
        "## Use the Keras Library to build an image recognition network using the Fashion-MNIST dataset (also comes with keras)\n",
        "\n",
        "- Load and preprocess the image data similar to how we preprocessed the MNIST data in class.\n",
        "- Make sure to one-hot encode your category labels\n",
        "- The number of nodes in your output layer should equal the number of classes you want to predict for Fashion-MNIST.\n",
        "- Try different hyperparameters. What is the highest accuracy that you are able to achieve.\n",
        "- Use the history object that is returned from model.fit to make graphs of the model's loss or train/validation accuracies by epoch. \n",
        "- Remember that neural networks fall prey to randomness so you may need to run your model multiple times (or use Cross Validation) in order to tell if a change to a hyperparameter is truly producing better results."
      ]
    },
    {
      "cell_type": "code",
      "metadata": {
        "colab_type": "code",
        "id": "szi6-IpuzaH1",
        "colab": {
          "base_uri": "https://localhost:8080/",
          "height": 173
        },
        "outputId": "f2e0c474-10e8-41bc-b994-ff75a9a299ab"
      },
      "source": [
        "from tensorflow.keras.datasets import fashion_mnist\n",
        "\n",
        "img_rows, img_cols = 28, 28\n",
        "\n",
        "(x_train, y_train), (x_test, y_test) = fashion_mnist.load_data()"
      ],
      "execution_count": 11,
      "outputs": [
        {
          "output_type": "stream",
          "text": [
            "Downloading data from https://storage.googleapis.com/tensorflow/tf-keras-datasets/train-labels-idx1-ubyte.gz\n",
            "32768/29515 [=================================] - 0s 0us/step\n",
            "Downloading data from https://storage.googleapis.com/tensorflow/tf-keras-datasets/train-images-idx3-ubyte.gz\n",
            "26427392/26421880 [==============================] - 0s 0us/step\n",
            "Downloading data from https://storage.googleapis.com/tensorflow/tf-keras-datasets/t10k-labels-idx1-ubyte.gz\n",
            "8192/5148 [===============================================] - 0s 0us/step\n",
            "Downloading data from https://storage.googleapis.com/tensorflow/tf-keras-datasets/t10k-images-idx3-ubyte.gz\n",
            "4423680/4422102 [==============================] - 0s 0us/step\n"
          ],
          "name": "stdout"
        }
      ]
    },
    {
      "cell_type": "code",
      "metadata": {
        "id": "C7OWNK1PvVac",
        "colab_type": "code",
        "colab": {}
      },
      "source": [
        "x_train_scaled = x_train/255\n",
        "x_test_scaled = x_test/255"
      ],
      "execution_count": 12,
      "outputs": []
    },
    {
      "cell_type": "code",
      "metadata": {
        "id": "hfNTRgyHvXR8",
        "colab_type": "code",
        "colab": {
          "base_uri": "https://localhost:8080/",
          "height": 34
        },
        "outputId": "870ff296-e5de-44d5-902c-cf3002dec0d6"
      },
      "source": [
        "y_test.shape"
      ],
      "execution_count": 13,
      "outputs": [
        {
          "output_type": "execute_result",
          "data": {
            "text/plain": [
              "(10000,)"
            ]
          },
          "metadata": {
            "tags": []
          },
          "execution_count": 13
        }
      ]
    },
    {
      "cell_type": "code",
      "metadata": {
        "id": "F-lfKiU4vYiz",
        "colab_type": "code",
        "colab": {}
      },
      "source": [
        "from tensorflow.keras.layers import Dropout\n",
        "from tensorflow.keras.constraints import MaxNorm\n",
        "\n",
        "model = Sequential()\n",
        "\n",
        "\n",
        "stop = EarlyStopping(monitor='val_accuracy', patience=8)\n",
        "\n",
        "n_features = 784\n",
        "\n",
        "model.add(Flatten())\n",
        "model.add(Dense(200, input_dim=n_features))\n",
        "model.add(Dense(100, activation='relu'))\n",
        "model.add(Dense(10, activation='softmax'))\n",
        "\n",
        "model.compile(loss='sparse_categorical_crossentropy', optimizer='adam', metrics=['accuracy'])"
      ],
      "execution_count": 14,
      "outputs": []
    },
    {
      "cell_type": "code",
      "metadata": {
        "id": "tiXVKWTTvaQO",
        "colab_type": "code",
        "colab": {
          "base_uri": "https://localhost:8080/",
          "height": 802
        },
        "outputId": "d634ed53-8924-4182-ac46-56e02d7168ff"
      },
      "source": [
        "model.fit(x_train_scaled, y_train, epochs=9999, validation_data=(x_test_scaled, y_test), callbacks=[stop])"
      ],
      "execution_count": 15,
      "outputs": [
        {
          "output_type": "stream",
          "text": [
            "Epoch 1/9999\n",
            "1875/1875 [==============================] - 6s 3ms/step - loss: 0.4957 - accuracy: 0.8225 - val_loss: 0.4586 - val_accuracy: 0.8327\n",
            "Epoch 2/9999\n",
            "1875/1875 [==============================] - 6s 3ms/step - loss: 0.3810 - accuracy: 0.8616 - val_loss: 0.4657 - val_accuracy: 0.8414\n",
            "Epoch 3/9999\n",
            "1875/1875 [==============================] - 6s 3ms/step - loss: 0.3524 - accuracy: 0.8703 - val_loss: 0.4175 - val_accuracy: 0.8530\n",
            "Epoch 4/9999\n",
            "1875/1875 [==============================] - 6s 3ms/step - loss: 0.3290 - accuracy: 0.8788 - val_loss: 0.3907 - val_accuracy: 0.8601\n",
            "Epoch 5/9999\n",
            "1875/1875 [==============================] - 6s 3ms/step - loss: 0.3140 - accuracy: 0.8833 - val_loss: 0.4026 - val_accuracy: 0.8607\n",
            "Epoch 6/9999\n",
            "1875/1875 [==============================] - 6s 3ms/step - loss: 0.3033 - accuracy: 0.8876 - val_loss: 0.3652 - val_accuracy: 0.8749\n",
            "Epoch 7/9999\n",
            "1875/1875 [==============================] - 6s 3ms/step - loss: 0.2909 - accuracy: 0.8920 - val_loss: 0.4041 - val_accuracy: 0.8635\n",
            "Epoch 8/9999\n",
            "1875/1875 [==============================] - 6s 3ms/step - loss: 0.2848 - accuracy: 0.8942 - val_loss: 0.3680 - val_accuracy: 0.8769\n",
            "Epoch 9/9999\n",
            "1875/1875 [==============================] - 6s 3ms/step - loss: 0.2741 - accuracy: 0.8976 - val_loss: 0.3506 - val_accuracy: 0.8786\n",
            "Epoch 10/9999\n",
            "1875/1875 [==============================] - 6s 3ms/step - loss: 0.2672 - accuracy: 0.9001 - val_loss: 0.3600 - val_accuracy: 0.8710\n",
            "Epoch 11/9999\n",
            "1875/1875 [==============================] - 6s 3ms/step - loss: 0.2613 - accuracy: 0.9023 - val_loss: 0.4190 - val_accuracy: 0.8614\n",
            "Epoch 12/9999\n",
            "1875/1875 [==============================] - 6s 3ms/step - loss: 0.2588 - accuracy: 0.9035 - val_loss: 0.3747 - val_accuracy: 0.8663\n",
            "Epoch 13/9999\n",
            "1875/1875 [==============================] - 6s 3ms/step - loss: 0.2506 - accuracy: 0.9057 - val_loss: 0.4103 - val_accuracy: 0.8648\n",
            "Epoch 14/9999\n",
            "1875/1875 [==============================] - 6s 3ms/step - loss: 0.2472 - accuracy: 0.9067 - val_loss: 0.3418 - val_accuracy: 0.8827\n",
            "Epoch 15/9999\n",
            "1875/1875 [==============================] - 6s 3ms/step - loss: 0.2434 - accuracy: 0.9091 - val_loss: 0.3657 - val_accuracy: 0.8746\n",
            "Epoch 16/9999\n",
            "1875/1875 [==============================] - 6s 3ms/step - loss: 0.2379 - accuracy: 0.9105 - val_loss: 0.3728 - val_accuracy: 0.8767\n",
            "Epoch 17/9999\n",
            "1875/1875 [==============================] - 6s 3ms/step - loss: 0.2312 - accuracy: 0.9126 - val_loss: 0.3806 - val_accuracy: 0.8777\n",
            "Epoch 18/9999\n",
            "1875/1875 [==============================] - 7s 4ms/step - loss: 0.2312 - accuracy: 0.9129 - val_loss: 0.4052 - val_accuracy: 0.8760\n",
            "Epoch 19/9999\n",
            "1875/1875 [==============================] - 6s 3ms/step - loss: 0.2260 - accuracy: 0.9154 - val_loss: 0.3902 - val_accuracy: 0.8748\n",
            "Epoch 20/9999\n",
            "1875/1875 [==============================] - 6s 3ms/step - loss: 0.2236 - accuracy: 0.9156 - val_loss: 0.4133 - val_accuracy: 0.8709\n",
            "Epoch 21/9999\n",
            "1875/1875 [==============================] - 6s 3ms/step - loss: 0.2182 - accuracy: 0.9171 - val_loss: 0.4321 - val_accuracy: 0.8714\n",
            "Epoch 22/9999\n",
            "1875/1875 [==============================] - 6s 3ms/step - loss: 0.2167 - accuracy: 0.9186 - val_loss: 0.4018 - val_accuracy: 0.8736\n"
          ],
          "name": "stdout"
        },
        {
          "output_type": "execute_result",
          "data": {
            "text/plain": [
              "<tensorflow.python.keras.callbacks.History at 0x7f47fa26f048>"
            ]
          },
          "metadata": {
            "tags": []
          },
          "execution_count": 15
        }
      ]
    },
    {
      "cell_type": "code",
      "metadata": {
        "id": "dLEFBIOkvb9J",
        "colab_type": "code",
        "colab": {
          "base_uri": "https://localhost:8080/",
          "height": 265
        },
        "outputId": "18aa2d55-6c9c-4f4c-f74e-723272148e91"
      },
      "source": [
        "import matplotlib.pyplot as plt\n",
        "\n",
        "loss_per_epoch = model.history.history['val_accuracy']\n",
        "plt.plot(range(len(loss_per_epoch)),loss_per_epoch);"
      ],
      "execution_count": 16,
      "outputs": [
        {
          "output_type": "display_data",
          "data": {
            "image/png": "[encoded data removed]",
            "text/plain": [
              "<Figure size 432x288 with 1 Axes>"
            ]
          },
          "metadata": {
            "tags": [],
            "needs_background": "light"
          }
        }
      ]
    },
    {
      "cell_type": "code",
      "metadata": {
        "id": "o8l9G4d3vdlT",
        "colab_type": "code",
        "colab": {
          "base_uri": "https://localhost:8080/",
          "height": 265
        },
        "outputId": "7906bd83-bfff-4f1a-b66d-37ff60f8127e"
      },
      "source": [
        "loss_per_epoch = model.history.history['loss']\n",
        "plt.plot(range(len(loss_per_epoch)),loss_per_epoch);"
      ],
      "execution_count": 17,
      "outputs": [
        {
          "output_type": "display_data",
          "data": {
            "image/png": "[encoded data removed]",
            "text/plain": [
              "<Figure size 432x288 with 1 Axes>"
            ]
          },
          "metadata": {
            "tags": [],
            "needs_background": "light"
          }
        }
      ]
    },
    {
      "cell_type": "code",
      "metadata": {
        "id": "kAPnNyFHvfs8",
        "colab_type": "code",
        "colab": {
          "base_uri": "https://localhost:8080/",
          "height": 34
        },
        "outputId": "750677fd-ebab-47c5-9b6b-72bd5ad08ae9"
      },
      "source": [
        "x_train_scaled.shape"
      ],
      "execution_count": 18,
      "outputs": [
        {
          "output_type": "execute_result",
          "data": {
            "text/plain": [
              "(60000, 28, 28)"
            ]
          },
          "metadata": {
            "tags": []
          },
          "execution_count": 18
        }
      ]
    },
    {
      "cell_type": "markdown",
      "metadata": {
        "colab_type": "text",
        "id": "zv_3xNMjzdLI"
      },
      "source": [
        "## Stretch Goals:\n",
        "\n",
        "- Use Hyperparameter Tuning to make the accuracy of your models as high as possible. (error as low as possible)\n",
        "- Use Cross Validation techniques to get more consistent results with your model.\n",
        "- Use GridSearchCV to try different combinations of hyperparameters. \n",
        "- Start looking into other types of Keras layers for CNNs and RNNs maybe try and build a CNN model for fashion-MNIST to see how the results compare."
      ]
    },
    {
      "cell_type": "code",
      "metadata": {
        "id": "ef0JanftuOPd",
        "colab_type": "code",
        "colab": {}
      },
      "source": [
        ""
      ],
      "execution_count": 6,
      "outputs": []
    }
  ]
}